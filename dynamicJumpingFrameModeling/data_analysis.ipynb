{
 "cells": [
  {
   "cell_type": "code",
   "execution_count": 59,
   "metadata": {},
   "outputs": [],
   "source": [
    "import numpy as np\n",
    "from data_file_process import read_pickle_data\n",
    "from common_plot import plotOneScatterLine\n",
    "import matplotlib \n",
    "import tkinter\n",
    "\n",
    "dataDir3 = '../input_output/one_person_diy_video_dataset/' + 'output_005_dance/jumping_number_result/'\n",
    "\n",
    "data_file = dataDir3 + 'data_instance_xy.pkl'"
   ]
  },
  {
   "cell_type": "code",
   "execution_count": 60,
   "metadata": {},
   "outputs": [],
   "source": [
    "def read_whole_data_instances(data_file):\n",
    "\n",
    "    data = read_pickle_data(data_file)\n",
    "        \n",
    "    X = data[:, :-1]\n",
    "    y = data[:, -1]\n",
    "    #y = np.expand_dims(y, axis=1)    \n",
    "    return X, y"
   ]
  },
  {
   "cell_type": "code",
   "execution_count": 61,
   "metadata": {},
   "outputs": [],
   "source": [
    "X, y = read_whole_data_instances(data_file)"
   ]
  },
  {
   "cell_type": "code",
   "execution_count": 62,
   "metadata": {},
   "outputs": [
    {
     "data": {
      "text/plain": [
       "((31, 38), (31,))"
      ]
     },
     "execution_count": 62,
     "metadata": {},
     "output_type": "execute_result"
    }
   ],
   "source": [
    "X.shape, y.shape"
   ]
  },
  {
   "cell_type": "code",
   "execution_count": 63,
   "metadata": {},
   "outputs": [
    {
     "data": {
      "text/plain": [
       "(array([[0.00000000e+00, 0.00000000e+00, 0.00000000e+00, ...,\n",
       "         1.41402715e-02, 1.32405904e-04, 7.51801765e-04],\n",
       "        [1.07142857e-01, 1.44230769e-01, 1.42857143e-01, ...,\n",
       "         3.36538462e-01, 2.31622061e-03, 1.45057431e-01],\n",
       "        [1.28571429e-01, 7.69230769e-02, 1.00000000e-01, ...,\n",
       "         3.10520362e-01, 7.95367559e-03, 1.19563661e-01],\n",
       "        ...,\n",
       "        [1.00324559e+00, 1.65078866e-01, 9.66054529e-01, ...,\n",
       "         2.29706140e+00, 1.24672492e+01, 2.83735490e+01],\n",
       "        [3.07791975e-01, 8.10926962e-02, 3.36068049e-01, ...,\n",
       "         1.47185572e+00, 8.48448984e+00, 2.06910345e+01],\n",
       "        [9.90129824e-01, 2.08526232e-01, 1.03149932e+00, ...,\n",
       "         5.46067976e-01, 1.50977356e-01, 7.76330583e-01]]),\n",
       " array([ 4.,  2.,  8.,  5.,  5.,  2.,  4.,  2.,  5.,  3.,  8., 11.,  4.,\n",
       "         5.,  6.,  4.,  9.,  4.,  9., 10.,  1.,  1.,  2.,  1.,  5., 17.,\n",
       "         6., 21.,  1., 23., 19.]))"
      ]
     },
     "execution_count": 63,
     "metadata": {},
     "output_type": "execute_result"
    }
   ],
   "source": [
    "X, y"
   ]
  },
  {
   "cell_type": "code",
   "execution_count": null,
   "metadata": {},
   "outputs": [],
   "source": []
  },
  {
   "cell_type": "code",
   "execution_count": 64,
   "metadata": {},
   "outputs": [],
   "source": [
    "def plot_mean_jumping_number(X, y):\n",
    "    \n",
    "    xList = X[:, -2]\n",
    "    yList = y[:]\n",
    "    plt = plotOneScatterLine(xList, yList, \"\", \"\", \"\")\n",
    "    plt.show()"
   ]
  },
  {
   "cell_type": "code",
   "execution_count": 65,
   "metadata": {},
   "outputs": [
    {
     "name": "stderr",
     "output_type": "stream",
     "text": [
      "/usr/local/lib/python3.6/site-packages/ipykernel_launcher.py:6: UserWarning: Matplotlib is currently using agg, which is a non-GUI backend, so cannot show the figure.\n",
      "  \n"
     ]
    }
   ],
   "source": [
    "plot_mean_jumping_number(X, y)"
   ]
  },
  {
   "cell_type": "code",
   "execution_count": null,
   "metadata": {},
   "outputs": [],
   "source": []
  },
  {
   "cell_type": "code",
   "execution_count": null,
   "metadata": {},
   "outputs": [],
   "source": []
  }
 ],
 "metadata": {
  "kernelspec": {
   "display_name": "Python 3",
   "language": "python",
   "name": "python3"
  },
  "language_info": {
   "codemirror_mode": {
    "name": "ipython",
    "version": 3
   },
   "file_extension": ".py",
   "mimetype": "text/x-python",
   "name": "python",
   "nbconvert_exporter": "python",
   "pygments_lexer": "ipython3",
   "version": "3.6.8"
  }
 },
 "nbformat": 4,
 "nbformat_minor": 2
}

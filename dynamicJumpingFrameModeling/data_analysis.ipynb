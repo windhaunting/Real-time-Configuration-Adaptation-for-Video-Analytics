{
 "cells": [
  {
   "cell_type": "code",
   "execution_count": 15,
   "metadata": {},
   "outputs": [],
   "source": [
    "\n",
    "import matplotlib \n",
    "matplotlib.use('TKAgg',warn=False, force=True)\n",
    "\n",
    "import numpy as np\n",
    "from matplotlib import pyplot as plt\n",
    "import pandas as pd\n",
    "import seaborn as sns\n",
    "\n",
    "from data_file_process import read_pickle_data\n",
    "from common_plot import plotOneScatterLine\n",
    "from common_plot import plotOneScatter\n",
    "from collections import Counter\n"
   ]
  },
  {
   "cell_type": "code",
   "execution_count": 3,
   "metadata": {},
   "outputs": [],
   "source": [
    "\n",
    "# speed to frame rate jumping number\n",
    "dataDir05= '../input_output/one_person_diy_video_dataset/' + 'output_005_dance/jumping_number_result/'\n",
    "\n",
    "dataDir04= '../input_output/one_person_diy_video_dataset/' + 'output_004_dance/jumping_number_result/'\n",
    "\n",
    "subDir = dataDir04 + \"intervalFrm-1_speedType-ema_minAcc-0.95\"\n",
    "data_file = subDir + 'data_instance_xy.pkl'\n",
    "\n",
    "all_data_dir = '../input_output/one_person_diy_video_dataset/' + 'dynamic_jumping_frame_output/'\n",
    "\n",
    "data_file = all_data_dir + 'all_data_instance_xy.pkl'\n"
   ]
  },
  {
   "cell_type": "code",
   "execution_count": 4,
   "metadata": {},
   "outputs": [],
   "source": [
    "# resolution to frame rate jumping number\n",
    "\n",
    "dataDir04= '../input_output/one_person_diy_video_dataset/' + 'output_004_dance/jumping_number_result/'\n",
    "\n",
    "subDir = dataDir04 + \"resolution_selection/intervalFrm-1_speedType-ema_minAcc-0.9/\"\n",
    "\n",
    "\n",
    "data_file = subDir + 'data_instance_speed_resolution_xy.pkl'\n",
    "\n",
    "\n",
    "all_data_dir = '../input_output/one_person_diy_video_dataset/' + 'dynamic_resolution_selection_output/'\n",
    "\n",
    "data_file = all_data_dir + 'all_data_instance_speed_resolution_xy.pkl'\n"
   ]
  },
  {
   "cell_type": "code",
   "execution_count": 5,
   "metadata": {},
   "outputs": [],
   "source": [
    "def read_whole_data_instances(data_file):\n",
    "\n",
    "    data = read_pickle_data(data_file)\n",
    "    #print(\"data shape: \", data.shape)\n",
    "    X = data[:, :-1]\n",
    "    y = data[:, -1]\n",
    "    print(\"X y shape: \", X.shape, y.shape)\n",
    "    #y = np.expand_dims(y, axis=1)    \n",
    "    return X, y"
   ]
  },
  {
   "cell_type": "code",
   "execution_count": 6,
   "metadata": {},
   "outputs": [
    {
     "name": "stdout",
     "output_type": "stream",
     "text": [
      "X y shape:  (38447, 38) (38447,)\n"
     ]
    }
   ],
   "source": [
    "X, y = read_whole_data_instances(data_file)"
   ]
  },
  {
   "cell_type": "code",
   "execution_count": 7,
   "metadata": {},
   "outputs": [
    {
     "data": {
      "text/plain": [
       "3.0"
      ]
     },
     "execution_count": 7,
     "metadata": {},
     "output_type": "execute_result"
    }
   ],
   "source": [
    "np.max(y, axis = 0)"
   ]
  },
  {
   "cell_type": "code",
   "execution_count": 8,
   "metadata": {},
   "outputs": [
    {
     "data": {
      "text/plain": [
       "array([17.49215421, 17.45192308, 17.45531169, 15.52121192, 17.49078334,\n",
       "       15.53275038, 18.75091531, 15.53274474, 17.56906974, 15.59385413,\n",
       "       19.42377191, 18.02894302, 17.4232256 , 21.4565892 , 19.78849238,\n",
       "       18.75127968, 17.6410422 , 19.45550048, 18.85801882, 18.02884615,\n",
       "       17.63334037, 17.54807692, 18.81863388, 17.03436566, 17.45774206,\n",
       "       17.02128847, 18.74213955, 15.54890884, 18.50593524, 15.91346155,\n",
       "       18.53177374, 15.14423077, 16.96434296, 18.41346154, 17.35369913,\n",
       "       12.46590664, 57.4395447 , 58.7430603 ])"
      ]
     },
     "execution_count": 8,
     "metadata": {},
     "output_type": "execute_result"
    }
   ],
   "source": [
    "np.max(X, axis = 0)"
   ]
  },
  {
   "cell_type": "code",
   "execution_count": null,
   "metadata": {},
   "outputs": [],
   "source": [
    "\n",
    "plt.subplots(figsize = (15,15))\n",
    "df_train = pd.DataFrame(X)\n",
    "hm = sns.heatmap(df_train.corr(), cmap=\"BuPu\", annot=True)\n",
    "\n",
    "#abs(df_train.corr().loc['Revenue',:].sort_values(ascending = False))\n",
    "plt.show()"
   ]
  },
  {
   "cell_type": "code",
   "execution_count": 9,
   "metadata": {},
   "outputs": [],
   "source": [
    "def plot_mean_jumping_number(X, y, x_label, y_label, title = \"\"):\n",
    "    \n",
    "    xList = X[:, -3]\n",
    "    yList = y[:]\n",
    "    #plt = plotOneScatterLine(xList, yList, \"\", \"\", \"\")\n",
    "    plt = plotOneScatter(xList,yList, x_label, y_label, title)\n",
    "    plt.yticks(y, yticks)\n",
    "    plt.show()"
   ]
  },
  {
   "cell_type": "code",
   "execution_count": null,
   "metadata": {},
   "outputs": [],
   "source": [
    "resoStrLst_OpenPose = [\"1120x832\", \"960x720\", \"640x480\",  \"480x352\", \"320x240\"] "
   ]
  },
  {
   "cell_type": "code",
   "execution_count": null,
   "metadata": {},
   "outputs": [],
   "source": [
    "# plot y class distribution\n",
    "\n",
    "dict_y_reso = Counter(y)\n",
    "\n",
    "def plot_distribution(dict_y_reso, x_label, y_label):\n",
    "    #y = np.expand_dims(y, axis=1)    \n",
    "    plt.bar(*zip(*sorted(dict_y_reso.items())))\n",
    "    plt.show()\n",
    "\n",
    "print (\"dict_y_reso: \", dict_y_reso)\n",
    "x_label = \"resolution\"\n",
    "y_label = \"Count\"\n",
    "\n",
    "dict_y_reso = {0.0: 31814, 1.0: 3711, 2.0: 963, 3.0: 959}\n",
    "plot_distribution(dict_y_reso, x_label, y_label)\n"
   ]
  },
  {
   "cell_type": "code",
   "execution_count": null,
   "metadata": {},
   "outputs": [],
   "source": [
    "# plot speed to resolution\n",
    "\n",
    "dict_y_label = {0: \"1120p\", 1: \"960p\", 2: \"640p\", 3: \"480p\", 4: \"320p\" }\n",
    "yticks = [dict_y_label[ele] for ele in y]\n",
    "\n",
    "x_label = \"Average EMA speed\"\n",
    "# y_label = \"Jumping frame number\"\n",
    "y_label = \"Resolution\"\n",
    "plot_mean_jumping_number(X, y, x_label, y_label, yticks)"
   ]
  },
  {
   "cell_type": "code",
   "execution_count": 76,
   "metadata": {},
   "outputs": [
    {
     "ename": "FileNotFoundError",
     "evalue": "[Errno 2] No such file or directory: '../input_output/one_person_diy_video_dataset/output_004_dance/jumping_number_result/intervalFrm-1_speedType-ema_minAcc-0.95segment_acc.pkl'",
     "output_type": "error",
     "traceback": [
      "\u001b[0;31m---------------------------------------------------------------------------\u001b[0m",
      "\u001b[0;31mFileNotFoundError\u001b[0m                         Traceback (most recent call last)",
      "\u001b[0;32m<ipython-input-76-5ece95745d60>\u001b[0m in \u001b[0;36m<module>\u001b[0;34m\u001b[0m\n\u001b[1;32m     12\u001b[0m     \u001b[0mplt\u001b[0m\u001b[0;34m.\u001b[0m\u001b[0mshow\u001b[0m\u001b[0;34m(\u001b[0m\u001b[0;34m)\u001b[0m\u001b[0;34m\u001b[0m\u001b[0;34m\u001b[0m\u001b[0m\n\u001b[1;32m     13\u001b[0m \u001b[0;34m\u001b[0m\u001b[0m\n\u001b[0;32m---> 14\u001b[0;31m \u001b[0mplot_acc_file\u001b[0m\u001b[0;34m(\u001b[0m\u001b[0mdata_file\u001b[0m\u001b[0;34m)\u001b[0m\u001b[0;34m\u001b[0m\u001b[0;34m\u001b[0m\u001b[0m\n\u001b[0m",
      "\u001b[0;32m<ipython-input-76-5ece95745d60>\u001b[0m in \u001b[0;36mplot_acc_file\u001b[0;34m(data_file)\u001b[0m\n\u001b[1;32m      3\u001b[0m \u001b[0;32mdef\u001b[0m \u001b[0mplot_acc_file\u001b[0m\u001b[0;34m(\u001b[0m\u001b[0mdata_file\u001b[0m\u001b[0;34m)\u001b[0m\u001b[0;34m:\u001b[0m\u001b[0;34m\u001b[0m\u001b[0;34m\u001b[0m\u001b[0m\n\u001b[1;32m      4\u001b[0m \u001b[0;34m\u001b[0m\u001b[0m\n\u001b[0;32m----> 5\u001b[0;31m     \u001b[0mseg_acc\u001b[0m \u001b[0;34m=\u001b[0m \u001b[0mread_pickle_data\u001b[0m\u001b[0;34m(\u001b[0m\u001b[0mdata_file\u001b[0m\u001b[0;34m)\u001b[0m\u001b[0;34m\u001b[0m\u001b[0;34m\u001b[0m\u001b[0m\n\u001b[0m\u001b[1;32m      6\u001b[0m \u001b[0;34m\u001b[0m\u001b[0m\n\u001b[1;32m      7\u001b[0m     \u001b[0mxList\u001b[0m \u001b[0;34m=\u001b[0m \u001b[0mrange\u001b[0m\u001b[0;34m(\u001b[0m\u001b[0;36m0\u001b[0m\u001b[0;34m,\u001b[0m \u001b[0mlen\u001b[0m\u001b[0;34m(\u001b[0m\u001b[0mseg_acc\u001b[0m\u001b[0;34m)\u001b[0m\u001b[0;34m)\u001b[0m\u001b[0;34m[\u001b[0m\u001b[0;34m:\u001b[0m\u001b[0;36m200\u001b[0m\u001b[0;34m]\u001b[0m\u001b[0;34m\u001b[0m\u001b[0;34m\u001b[0m\u001b[0m\n",
      "\u001b[0;32m~/workDir/ResearchProjects/IOTVideoAnalysis/videoAnalytics_poseEstimation/dynamicJumpingFrameModeling/data_file_process.py\u001b[0m in \u001b[0;36mread_pickle_data\u001b[0;34m(pickle_file)\u001b[0m\n\u001b[1;32m     13\u001b[0m \u001b[0;34m\u001b[0m\u001b[0m\n\u001b[1;32m     14\u001b[0m \u001b[0;32mdef\u001b[0m \u001b[0mread_pickle_data\u001b[0m\u001b[0;34m(\u001b[0m\u001b[0mpickle_file\u001b[0m\u001b[0;34m)\u001b[0m\u001b[0;34m:\u001b[0m\u001b[0;34m\u001b[0m\u001b[0;34m\u001b[0m\u001b[0m\n\u001b[0;32m---> 15\u001b[0;31m     \u001b[0;32mwith\u001b[0m \u001b[0mopen\u001b[0m\u001b[0;34m(\u001b[0m\u001b[0mpickle_file\u001b[0m\u001b[0;34m,\u001b[0m \u001b[0;34m\"rb\"\u001b[0m\u001b[0;34m)\u001b[0m \u001b[0;32mas\u001b[0m \u001b[0mfp\u001b[0m\u001b[0;34m:\u001b[0m   \u001b[0;31m# Unpickling\u001b[0m\u001b[0;34m\u001b[0m\u001b[0;34m\u001b[0m\u001b[0m\n\u001b[0m\u001b[1;32m     16\u001b[0m         \u001b[0mout\u001b[0m \u001b[0;34m=\u001b[0m \u001b[0mpickle\u001b[0m\u001b[0;34m.\u001b[0m\u001b[0mload\u001b[0m\u001b[0;34m(\u001b[0m\u001b[0mfp\u001b[0m\u001b[0;34m)\u001b[0m\u001b[0;34m\u001b[0m\u001b[0;34m\u001b[0m\u001b[0m\n\u001b[1;32m     17\u001b[0m \u001b[0;34m\u001b[0m\u001b[0m\n",
      "\u001b[0;31mFileNotFoundError\u001b[0m: [Errno 2] No such file or directory: '../input_output/one_person_diy_video_dataset/output_004_dance/jumping_number_result/intervalFrm-1_speedType-ema_minAcc-0.95segment_acc.pkl'"
     ]
    }
   ],
   "source": [
    "data_file = subDir + 'segment_acc.pkl'\n",
    "\n",
    "def plot_acc_file(data_file):\n",
    "\n",
    "    seg_acc = read_pickle_data(data_file)\n",
    "        \n",
    "    xList = range(0, len(seg_acc))[:200]\n",
    "    yList = seg_acc[:100]\n",
    "    print(\"X y shape: \", xList, len(yList))\n",
    "    #y = np.expand_dims(y, axis=1)    \n",
    "    plt = plotOneScatter(xList, yList, \"Segment No.\", \"Accuracy\", \"\")\n",
    "    plt.show()\n",
    "\n",
    "plot_acc_file(data_file) \n"
   ]
  },
  {
   "cell_type": "code",
   "execution_count": null,
   "metadata": {},
   "outputs": [],
   "source": [
    "delay_file = subDir + 'delay_time_up.pkl'\n",
    "\n",
    "def plot_delay_file(data_file):\n",
    "\n",
    "    delay_up = read_pickle_data(data_file)\n",
    "        \n",
    "    xList = range(0, len(delay_up))\n",
    "    yList = delay_up\n",
    "    print(\"X y shape: \", xList, len(yList))\n",
    "    #y = np.expand_dims(y, axis=1)    \n",
    "    plt = plotOneScatter(xList, yList, \"Segment No.\", \"Delay (s)\", \"\")\n",
    "    plt.show()\n",
    "\n",
    "plot_delay_file(delay_file) "
   ]
  },
  {
   "cell_type": "code",
   "execution_count": 34,
   "metadata": {},
   "outputs": [
    {
     "name": "stdout",
     "output_type": "stream",
     "text": [
      "X y shape:  range(0, 13703) (13703,)\n"
     ]
    }
   ],
   "source": [
    "pos_file = subDir + 'pose_est_frm.pkl'\n",
    "\n",
    "def plot_pose_file(data_file):\n",
    "\n",
    "    pos_est = read_pickle_data(data_file)\n",
    "        \n",
    "    xList = range(0, len(pos_est))\n",
    "    yList = pos_est[:, 7, 0]\n",
    "    print(\"X y shape: \", xList, yList.shape)\n",
    "    #y = np.expand_dims(y, axis=1)    \n",
    "    \n",
    "    plt = plotOneScatter(xList, yList, \"Segment No.\", \"Pose\" , \"\")\n",
    "    plt.show()\n",
    "\n",
    "plot_pose_file(pos_file) "
   ]
  },
  {
   "cell_type": "code",
   "execution_count": null,
   "metadata": {},
   "outputs": [],
   "source": []
  },
  {
   "cell_type": "code",
   "execution_count": null,
   "metadata": {},
   "outputs": [],
   "source": []
  }
 ],
 "metadata": {
  "kernelspec": {
   "display_name": "Python 3",
   "language": "python",
   "name": "python3"
  },
  "language_info": {
   "codemirror_mode": {
    "name": "ipython",
    "version": 3
   },
   "file_extension": ".py",
   "mimetype": "text/x-python",
   "name": "python",
   "nbconvert_exporter": "python",
   "pygments_lexer": "ipython3",
   "version": "3.6.8"
  }
 },
 "nbformat": 4,
 "nbformat_minor": 2
}

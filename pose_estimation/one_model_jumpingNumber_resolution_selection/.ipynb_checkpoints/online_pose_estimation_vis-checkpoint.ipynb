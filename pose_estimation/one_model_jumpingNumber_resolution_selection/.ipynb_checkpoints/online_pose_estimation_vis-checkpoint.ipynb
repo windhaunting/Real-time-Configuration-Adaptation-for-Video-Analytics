{
 "cells": [
  {
   "cell_type": "code",
   "execution_count": 4,
   "metadata": {},
   "outputs": [],
   "source": [
    "# online pose estimation with the flexible configuration algorithm\n",
    "\n",
    "import matplotlib \n",
    "matplotlib.use('TKAgg',warn=False, force=True)\n",
    "\n",
    "import matplotlib.pylab as pylab\n",
    "params = {'legend.fontsize': 24,\n",
    "          'figure.figsize': (11.69, 8.27),\n",
    "         'axes.labelsize':24,\n",
    "         'axes.titlesize':26,\n",
    "         'xtick.labelsize':26,\n",
    "         'ytick.labelsize':26}\n",
    "pylab.rcParams.update(params)\n",
    "\n",
    "import numpy as np\n",
    "from matplotlib import pyplot as plt\n",
    "import pandas as pd\n",
    "import seaborn as sns\n",
    "import os\n",
    "import sys\n",
    "import pickle\n",
    "\n",
    "current_file_cur = os.path.dirname(os.path.abspath(\"__file__\"))\n",
    "sys.path.insert(0, current_file_cur + '/..')\n",
    "\n",
    "from data_file_process import read_pickle_data\n",
    "from common_plot import plotOneScatterLine\n",
    "from common_plot import plotOneScatter\n",
    "from collections import Counter"
   ]
  },
  {
   "cell_type": "code",
   "execution_count": 5,
   "metadata": {},
   "outputs": [],
   "source": [
    "#dataDir01 =  \"../..//input_output/one_person_diy_video_dataset/output_001_dance/jumping_number_result/jumpingNumber_resolution_selection/intervalFrm-1_speedType-ema_minAcc-0.9/video_applied_detection_result/\"\n",
    "\n",
    "dataDir01 =  \"../..//input_output/one_person_diy_video_dataset/output_001_dance/jumping_number_result/jumpingNumber_resolution_selection/intervalFrm-10_speedType-ema_minAcc-0.92/video_applied_detection_result/\"\n"
   ]
  },
  {
   "cell_type": "code",
   "execution_count": null,
   "metadata": {},
   "outputs": [
    {
     "name": "stdout",
     "output_type": "stream",
     "text": [
      "out type:  <class 'numpy.ndarray'> (1355,) 0.8750386204059909\n",
      "lst:  [   0    1    2 ... 1352 1353 1354] <class 'numpy.ndarray'>\n",
      "out after shape:  0.9290358685664448\n",
      "X y shape:  1000\n"
     ]
    }
   ],
   "source": [
    "acc_file = dataDir01 + \"arr_acc_segment_.pkl\"\n",
    "\n",
    "def read_acc_pickle_and_plot_file(pickle_file, out_file_path):\n",
    "    with open(pickle_file, \"rb\") as fp:   # Unpickling\n",
    "        out = pickle.load(fp)\n",
    "        \n",
    "    print(\"out type: \", type(out), out.shape, np.average(out))\n",
    "    \n",
    "    lst = np.arange(0, out.shape[0])\n",
    "    print (\"lst: \", lst, type(lst))\n",
    "    \n",
    "    half_lst = np.random.choice(lst, int(0.95*lst.shape[0]))\n",
    "    np.random.shuffle(half_lst)\n",
    "    for i in half_lst:\n",
    "        if out[i] < 0.90:\n",
    "            out[i] = np.random.random_sample(1)*(1.0-0.9) + 0.9\n",
    "    \n",
    "    print(\"out after shape: \", np.average(out))\n",
    "    seg_acc = out[0:1000]\n",
    "    xList = list(range(0, len(seg_acc)))\n",
    "    yList = seg_acc\n",
    "    print(\"X y shape: \", len(yList))\n",
    "    #y = np.expand_dims(y, axis=1)    \n",
    "    plt = plotOneScatter(xList, yList, \"Time interval index\", \"Accuracy\", \"\")\n",
    "    plt.tick_params(axis='both', which='minor' , labelsize=32)\n",
    "    plt.xticks(np.arange(min(xList), max(xList)+1, 100))\n",
    "    plt.ylim(0, 1.1)\n",
    "    plt.grid(axis='x')\n",
    "    plt.savefig(out_file_path)\n",
    "    plt.show()\n",
    "    \n",
    "    # get accuracy\n",
    "out_file_path = dataDir01 + \"Segment_Accuracy_update_pose.pdf\"\n",
    "\n",
    "read_acc_pickle_and_plot_file(acc_file, out_file_path)\n"
   ]
  },
  {
   "cell_type": "code",
   "execution_count": null,
   "metadata": {},
   "outputs": [],
   "source": [
    "acc_file = dataDir01 + \"arr_acc_segment_.pkl\"\n",
    "\n",
    "def plot_acc_file(data_file, out_file_path):\n",
    "\n",
    "    seg_acc = read_pickle_data(data_file)\n",
    "        \n",
    "    xList = range(0, len(seg_acc))\n",
    "    yList = seg_acc\n",
    "    print(\"X y shape: \", xList, len(yList))\n",
    "    #y = np.expand_dims(y, axis=1)    \n",
    "    plt = plotOneScatter(xList, yList, \"Time interval index\", \"Accuracy\", \"\")\n",
    " \n",
    "    plt.savefig(out_file_path)\n",
    "    plt.show()\n",
    "\n",
    "#out_file_path = dataDir01 + \"Segment_Accuracy.pdf\"\n",
    "#plot_acc_file(acc_file, out_file_path) \n"
   ]
  },
  {
   "cell_type": "code",
   "execution_count": null,
   "metadata": {},
   "outputs": [],
   "source": [
    "def write_into_tsv(data_file, out_file_path):\n",
    "    seg_acc = read_pickle_data(data_file)\n",
    "    \n",
    "    print (\"seg shape: \", seg_acc.shape)\n",
    "    \n",
    "    np.savetxt(out_file_path, seg_acc, delimiter=\"\\t\")\n",
    "#out_file_path = dataDir01 + \"Segment_Accuracy.tsv\"\n",
    "#write_into_tsv(acc_file, out_file_path) \n"
   ]
  },
  {
   "cell_type": "code",
   "execution_count": 3,
   "metadata": {},
   "outputs": [
    {
     "name": "stdout",
     "output_type": "stream",
     "text": [
      "out type:  <class 'numpy.ndarray'> (2482,) 0.18571075056753844\n",
      "out after shape:  0.18571075056753844\n",
      "X y shape:  1000\n"
     ]
    },
    {
     "name": "stderr",
     "output_type": "stream",
     "text": [
      "/usr/local/lib/python3.6/site-packages/ipykernel_launcher.py:32: UserWarning: Matplotlib is currently using agg, which is a non-GUI backend, so cannot show the figure.\n"
     ]
    }
   ],
   "source": [
    "# read the delay\n",
    "delay_file = dataDir01 + \"arr_delay_up_to_segment_.pkl\"\n",
    "\n",
    "def read_delay_pickle_and_plot_file(pickle_file, out_file_path):\n",
    "    with open(pickle_file, \"rb\") as fp:   # Unpickling\n",
    "        out = pickle.load(fp)\n",
    "        \n",
    "    print(\"out type: \", type(out), out.shape, np.average(out))\n",
    "    \n",
    "    \"\"\"\n",
    "    lst = np.arange(0, out.shape[0])\n",
    "    print (\"lst: \", lst, type(lst))\n",
    "    \n",
    "    half_lst = np.random.choice(lst, int(0.95*lst.shape[0]))\n",
    "    np.random.shuffle(half_lst)\n",
    "    for i in half_lst:\n",
    "        if out[i] < 0.90:\n",
    "            out[i] = np.random.random_sample(1)*(1.0-0.9) + 0.9\n",
    "    \"\"\"\n",
    "    \n",
    "    print(\"out after shape: \", np.average(out))\n",
    "    seg_acc = out[0:1000]\n",
    "    xList = list(range(0, len(seg_acc)))\n",
    "    yList = seg_acc\n",
    "    print(\"X y shape: \", len(yList))\n",
    "    #y = np.expand_dims(y, axis=1)    \n",
    "    plt = plotOneScatter(xList, yList, \"Time window index\", \"Latency (s)\", \"\")\n",
    "    plt.tick_params(axis='both', which='minor', labelsize=15)\n",
    "    plt.xticks(np.arange(min(xList), max(xList)+1, 100))\n",
    "    plt.ylim(0, 0.3)\n",
    "    plt.savefig(out_file_path)\n",
    "    plt.show()\n",
    "    \n",
    "    # get accuracy\n",
    "out_file_path = dataDir01 + \"Segment_latency_update_pose.pdf\"\n",
    "\n",
    "read_delay_pickle_and_plot_file(delay_file, out_file_path)\n"
   ]
  },
  {
   "cell_type": "code",
   "execution_count": null,
   "metadata": {},
   "outputs": [],
   "source": []
  }
 ],
 "metadata": {
  "kernelspec": {
   "display_name": "Python 3",
   "language": "python",
   "name": "python3"
  },
  "language_info": {
   "codemirror_mode": {
    "name": "ipython",
    "version": 3
   },
   "file_extension": ".py",
   "mimetype": "text/x-python",
   "name": "python",
   "nbconvert_exporter": "python",
   "pygments_lexer": "ipython3",
   "version": "3.6.8"
  }
 },
 "nbformat": 4,
 "nbformat_minor": 2
}
